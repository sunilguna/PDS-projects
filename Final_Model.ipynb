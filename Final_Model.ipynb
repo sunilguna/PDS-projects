{
 "metadata": {
  "name": ""
 },
 "nbformat": 3,
 "nbformat_minor": 0,
 "worksheets": [
  {
   "cells": [
    {
     "cell_type": "code",
     "collapsed": false,
     "input": [
      "%matplotlib inline\n",
      "import matplotlib.pyplot as plt\n",
      "import numpy as np\n",
      "import pandas as pd\n",
      "from sklearn import svm\n",
      "from sklearn.svm import SVC\n",
      "from sklearn import neighbors\n",
      "import warnings\n",
      "warnings.filterwarnings(\"ignore\", category=DeprecationWarning,\n",
      "                        module=\"pandas\", lineno=570)\n",
      "from sklearn import cross_validation\n",
      "from sklearn import metrics\n",
      "\n",
      "df = pd.read_csv('StockModel_Data.csv')\n",
      "\n",
      "print df\n",
      "\n",
      "X = df.iloc[:,0:4]\n",
      "y = np.ravel(df.iloc[:,4:5])\n",
      "\n",
      "i = 0.05 \n",
      "x_axis = []\n",
      "y_svc =[]\n",
      "y_linear = []\n",
      "y_knn = []\n",
      "\n",
      "#Testing the models for various splits\n",
      "while (i < 1.0):\n",
      "#Get the X Axis    \n",
      "    x_axis.append(round(i,2))\n",
      "    \n",
      "    j = round(1 - i, 2)\n",
      "\n",
      "#Get the splits    \n",
      "    X_train, X_test, y_train, y_test = cross_validation.train_test_split(X, y,\n",
      "                                                                     test_size=j, random_state=0)\n",
      "\n",
      "#Using a Support Vector Machine    \n",
      "    svc_model = SVC(gamma=0.001, C = 1000000.0)\n",
      "    svc_model.fit(X_train, y_train)\n",
      "    \n",
      "    y_pred = svc_model.predict(X_test)\n",
      "    y_svc.append(metrics.accuracy_score(y_test, y_pred))\n",
      "   \n",
      "#Using a Linear Model\n",
      "    linear_model = svm.LinearSVC(C = 10000000.0)\n",
      "    linear_model.fit(X_train, y_train)\n",
      "    \n",
      "    y_pred = linear_model.predict(X_test)\n",
      "    y_linear.append(metrics.accuracy_score(y_test, y_pred))\n",
      "   \n",
      "#Using the K neighbors classifier\n",
      "    knn_model = neighbors.KNeighborsClassifier(weights = 'distance')\n",
      "    knn_model.fit(X_train, y_train)\n",
      "    \n",
      "    y_pred = knn_model.predict(X_test)\n",
      "    y_knn.append(metrics.accuracy_score(y_test, y_pred))\n",
      "    \n",
      "    i = i + 0.05   \n",
      "\n",
      "#Plotting the graphs\n",
      "plt.plot(x_axis, y_svc, 'g' , label = 'SVC')\n",
      "plt.plot(x_axis, y_linear, 'r', label = 'Linear')\n",
      "plt.plot(x_axis, y_knn, 'b', label = 'KNN')\n",
      "plt.xlabel('Training Data Size')\n",
      "plt.ylabel('Accuracy')\n",
      "plt.legend(loc='upper center', bbox_to_anchor=(0.5,-0.1)) \n",
      "plt.show()\n",
      "\n",
      "#Get the splits for the accuracy report   \n",
      "X_train, X_test, y_train, y_test = cross_validation.train_test_split(X, y,\n",
      "                                                                     test_size=0.2, random_state=0)\n",
      "\n",
      "#Using a Support Vector Machine    \n",
      "svc_model = SVC(gamma=0.001, C = 1000000.0)\n",
      "svc_model.fit(X_train, y_train)\n",
      "\n",
      "y_pred = svc_model.predict(X_test)\n",
      "print \"Accuracy: %f\" % metrics.accuracy_score(y_test, y_pred)\n",
      "print metrics.classification_report(y_test, y_pred)"
     ],
     "language": "python",
     "metadata": {},
     "outputs": [
      {
       "output_type": "stream",
       "stream": "stdout",
       "text": [
        "<class 'pandas.core.frame.DataFrame'>\n",
        "Int64Index: 610 entries, 0 to 609\n",
        "Data columns (total 5 columns):\n",
        "Trend         610  non-null values\n",
        "Vol. Chg      610  non-null values\n",
        "Price Chg.    610  non-null values\n",
        "S&P Chg.      610  non-null values\n",
        "TV            610  non-null values\n",
        "dtypes: float64(3), int64(2)\n"
       ]
      },
      {
       "metadata": {},
       "output_type": "display_data",
       "png": "[encoded data removed]",
       "text": [
        "<matplotlib.figure.Figure at 0x101dd29d0>"
       ]
      },
      {
       "output_type": "stream",
       "stream": "stdout",
       "text": [
        "Accuracy: 0.852459\n",
        "             precision    recall  f1-score   support\n",
        "\n",
        "          0       0.90      0.82      0.86        66\n",
        "          1       0.81      0.89      0.85        56\n",
        "\n",
        "avg / total       0.86      0.85      0.85       122\n",
        "\n"
       ]
      }
     ],
     "prompt_number": 3
    },
    {
     "cell_type": "code",
     "collapsed": false,
     "input": [],
     "language": "python",
     "metadata": {},
     "outputs": [],
     "prompt_number": 4
    },
    {
     "cell_type": "code",
     "collapsed": false,
     "input": [],
     "language": "python",
     "metadata": {},
     "outputs": []
    }
   ],
   "metadata": {}
  }
 ]
}