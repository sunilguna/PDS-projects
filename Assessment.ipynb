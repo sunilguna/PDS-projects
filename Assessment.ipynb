{
 "metadata": {
  "name": ""
 },
 "nbformat": 3,
 "nbformat_minor": 0,
 "worksheets": [
  {
   "cells": [
    {
     "cell_type": "code",
     "collapsed": false,
     "input": [
      "!curl -O http://people.stern.nyu.edu/ja1517/data/assess1_data.json"
     ],
     "language": "python",
     "metadata": {},
     "outputs": [
      {
       "output_type": "stream",
       "stream": "stdout",
       "text": [
        "  % Total    % Received % Xferd  Average Speed   Time    Time     Time  Current\r\n",
        "                                 Dload  Upload   Total   Spent    Left  Speed\r\n",
        "\r",
        "  0     0    0     0    0     0      0      0 --:--:--  0:00:04 --:--:--     0"
       ]
      },
      {
       "output_type": "stream",
       "stream": "stdout",
       "text": [
        "\r",
        " 12 6123k   12  742k    0     0   151k      0  0:00:40  0:00:04  0:00:36  853k"
       ]
      },
      {
       "output_type": "stream",
       "stream": "stdout",
       "text": [
        "\r",
        " 24 6123k   24 1502k    0     0   255k      0  0:00:23  0:00:05  0:00:18  803k"
       ]
      },
      {
       "output_type": "stream",
       "stream": "stdout",
       "text": [
        "\r",
        " 39 6123k   39 2431k    0     0   353k      0  0:00:17  0:00:06  0:00:11  847k"
       ]
      },
      {
       "output_type": "stream",
       "stream": "stdout",
       "text": [
        "\r",
        " 55 6123k   55 3381k    0     0   429k      0  0:00:14  0:00:07  0:00:07  874k"
       ]
      },
      {
       "output_type": "stream",
       "stream": "stdout",
       "text": [
        "\r",
        " 69 6123k   69 4269k    0     0   480k      0  0:00:12  0:00:08  0:00:04"
       ]
      },
      {
       "output_type": "stream",
       "stream": "stdout",
       "text": [
        "  877k"
       ]
      },
      {
       "output_type": "stream",
       "stream": "stdout",
       "text": [
        "\r",
        " 80 6123k   80 4935k    0     0   499k      0  0:00:12  0:00:09  0:00:03  838k"
       ]
      },
      {
       "output_type": "stream",
       "stream": "stdout",
       "text": [
        "\r",
        " 98 6123k   98 6059k    0     0   556k      0  0:00:10  0:00:10 --:--:--  911k"
       ]
      },
      {
       "output_type": "stream",
       "stream": "stdout",
       "text": [
        "\r",
        "100 6123k  100 6123k    0     0   558k      0  0:00:10  0:00:10 --:--:--  905k\r\n"
       ]
      }
     ],
     "prompt_number": 3
    },
    {
     "cell_type": "code",
     "collapsed": false,
     "input": [
      "!wc -l assess1_data.json"
     ],
     "language": "python",
     "metadata": {},
     "outputs": [
      {
       "output_type": "stream",
       "stream": "stdout",
       "text": [
        "   35275 assess1_data.json\r\n"
       ]
      }
     ],
     "prompt_number": 4
    },
    {
     "cell_type": "code",
     "collapsed": false,
     "input": [
      "!head -1 assess1_data.json"
     ],
     "language": "python",
     "metadata": {},
     "outputs": [
      {
       "output_type": "stream",
       "stream": "stdout",
       "text": [
        "{\"RFA_2F\":4,\"RFA_2A\":\"E\",\"TARGET_B\":0,\"LASTGIFT\":5,\"AVGGIFT\":7.4814814815,\"PEPSTRFL\":\"X\",\"LASTDATE\":9512,\"WEALTH_INDEX\":3.33,\"INCOME\":3,\"FISTDATE\":9001,\"NAME\":\"Reshama Y. Saat\"}\r\n"
       ]
      }
     ],
     "prompt_number": 6
    },
    {
     "cell_type": "code",
     "collapsed": false,
     "input": [
      "%matplotlib inline\n",
      "import matplotlib.pyplot as plt\n",
      "import json\n",
      "data = []\n",
      "with open('assess1_data.json') as f:\n",
      "    for line in f:\n",
      "        data.append(json.loads(line))\n",
      "cust_name = dict()\n",
      "rfa_2f = dict()\n",
      "rfa_2a = dict()\n",
      "wealth = dict()\n",
      "wealth_resp = dict()\n",
      "wealth_no_resp = dict()\n",
      "target = dict()\n",
      "new_data = []\n",
      "wealth_resp_plot = []\n",
      "wealth_no_resp_plot = []\n",
      "invalid_rows = 0\n",
      "n = 0\n",
      "resp = 0\n",
      "no_resp = 0\n",
      "#Reading the Data from the file line by line\n",
      "for i,x in enumerate(data):\n",
      "    skip_row = 0\n",
      "#Storing the customer names in a dictionary to find duplicates \n",
      "    if x[\"NAME\"] in cust_name:\n",
      "        cust_name[x[\"NAME\"]] += 1\n",
      "    else:\n",
      "        cust_name[x[\"NAME\"]] = 1\n",
      "#If the value '-9999' is encountered skip that row   \n",
      "    for key, value in x.items():\n",
      "        if (value == -9999) or (value == \"-9999\"):\n",
      "            invalid_rows += 1\n",
      "            skip_row = 1\n",
      "            break\n",
      "#if skip_row is 1 skipping that row from further processing\n",
      "    if skip_row == 1:\n",
      "        continue\n",
      "    else:\n",
      "#Create a new list with valid data\n",
      "        new_data.append(x)\n",
      "#Finding Values and Frequency of RFA_2F\n",
      "        if x[\"RFA_2F\"] in rfa_2f:\n",
      "            rfa_2f[x[\"RFA_2F\"]] += 1\n",
      "        else:\n",
      "            rfa_2f[x[\"RFA_2F\"]] = 1\n",
      "#Finding Values and Frequency of RFA_2A            \n",
      "        if x[\"RFA_2A\"] in rfa_2a:\n",
      "            rfa_2a[x[\"RFA_2A\"]] += 1\n",
      "        else:\n",
      "            rfa_2a[x[\"RFA_2A\"]] = 1\n",
      "#Finding Values and Frequency of WEALTH_INDEX            \n",
      "        if x[\"WEALTH_INDEX\"] in wealth:\n",
      "            wealth[x[\"WEALTH_INDEX\"]] += 1\n",
      "        else:\n",
      "            wealth[x[\"WEALTH_INDEX\"]] = 1\n",
      "#Counting number of valid data        \n",
      "        n += 1\n",
      "        if x[\"TARGET_B\"] == 1:\n",
      "#If the customer responded setting the variable resp and the wealth_resp_plot \n",
      "            resp += 1\n",
      "            wealth_resp_plot.append(x[\"WEALTH_INDEX\"])\n",
      "#Finding the unique values of WEALTH_INDEX for responses\n",
      "            if x[\"WEALTH_INDEX\"] in wealth_resp:\n",
      "                wealth_resp[x[\"WEALTH_INDEX\"]] += 1\n",
      "            else:\n",
      "                wealth_resp[x[\"WEALTH_INDEX\"]] = 1\n",
      "        elif x[\"TARGET_B\"] == 0:\n",
      "#If the customer did not respond setting the variable no_resp and the wealth_no_resp_plot\n",
      "            no_resp += 1\n",
      "            wealth_no_resp_plot.append(x[\"WEALTH_INDEX\"])\n",
      "#Finding the unique values of WEALTH_INDEX for no responses\n",
      "            if x[\"WEALTH_INDEX\"] in wealth_no_resp:\n",
      "                wealth_no_resp[x[\"WEALTH_INDEX\"]] += 1\n",
      "            else:\n",
      "                wealth_no_resp[x[\"WEALTH_INDEX\"]] = 1\n",
      "\n",
      "#Printing the duplicate customer names\n",
      "for x in cust_name:\n",
      "    if cust_name[x] > 1:\n",
      "        print \"b) Customer with name\", x, \"repeated\", cust_name[x], \"times\"\n",
      "#Printing the number of rows with 9999 value\n",
      "print \"c) Number of rows with -9999 value:\", invalid_rows\n",
      "#Printing the values and frequency of RFA_2F and RFA_2A\n",
      "print \"d.1) Values and Frequency of RFA_2F:\", rfa_2f\n",
      "print \"d.2) Values and Frequency of RFA_2A:\", rfa_2a\n",
      "#Printing values of WEALTH_INDEX\n",
      "print \"d.3) Values of WEALTH_INDEX:\", wealth.keys()\n",
      "#Printing proportion of targer consumers\n",
      "resp_prop = resp / float (resp + no_resp)\n",
      "print \"e) Proportion of target consumers responding:\", resp_prop\n",
      "#For difference in distribution we calculate the unique values of WEALTH_INDEX for responders and non-responders\n",
      "print \"f.1) WEALTH_INDEX unique values for responders:\", len(wealth_resp)\n",
      "print \"f.2) WEALTH_INDEX unique values for non-responders:\", len(wealth_no_resp)\n",
      "\n",
      "#Plotting the histogram with counts\n",
      "bin_size = 100\n",
      "plt.hist(wealth_resp_plot, bin_size, color = 'b' )\n",
      "plt.hist(wealth_no_resp_plot, bin_size , color = 'g', alpha=0.5)\n",
      "plt.show()\n",
      "\n",
      "#Plotting the histogram with percents\n",
      "plt.hist(wealth_resp_plot, bin_size , normed = True , color = 'b' )\n",
      "plt.hist(wealth_no_resp_plot, bin_size , normed = True, color = 'g' , alpha=0.5)\n",
      "plt.show()\n",
      "\n",
      "#Sort the new list with valid data by name\n",
      "sorted_list = sorted(new_data, key = lambda new_data: new_data[\"NAME\"])\n",
      "numbered = dict()\n",
      "#Storing the list with numbers\n",
      "for i,x in enumerate(sorted_list):\n",
      "    numbered[i+1] = x\n",
      "#Printing the alphabetized records 1-10\n",
      "print \"h.1) Records 1-10 sorted by first name:\" \n",
      "for i in range(1,11):\n",
      "    print numbered[i]\n",
      "#Printing the alphabetized records 20000-20010\n",
      "print \"h.2) Records 20000-20010 sorted by first name:\"\n",
      "for i in range(20000,20011):\n",
      "    print numbered[i]\n",
      "\n",
      "#Adding the last name as the first part of the name temporarily for sorting by last name\n",
      "for i,x in enumerate(new_data):\n",
      "    name_list = x[\"NAME\"].split()\n",
      "#if the last name is Sr., Jr., I, II, III then use the second last element of list as first element to be sorted by\n",
      "    if name_list[-1] == \"Sr.\" or name_list[-1] == \"Jr.\" or name_list[-1] == \"I\" or name_list[-1] == \"II\" or name_list[-1] == \"III\":    \n",
      "        x[\"NAME\"] = name_list[-2] + name_list[-1] + \"|\" + x[\"NAME\"]\n",
      "    else:\n",
      "#else use the last element in the list\n",
      "        x[\"NAME\"] = name_list[-1] + \"|\" + x[\"NAME\"]\n",
      "\n",
      "#Sort the new list by last name\n",
      "sorted_list = sorted(new_data, key = lambda new_data: new_data[\"NAME\"])\n",
      "numbered = dict()\n",
      "\n",
      "#Remove the last name that was added to the name temporarily\n",
      "for i,x in enumerate(sorted_list):\n",
      "    name_list = x[\"NAME\"].split('|')\n",
      "    x[\"NAME\"] = name_list[-1]\n",
      "    numbered[i+1] = x\n",
      "\n",
      "#Print the alphabetized records by last name\n",
      "print \"i.1) Records 1-10 sorted by last name:\" \n",
      "for i in range(1,11):\n",
      "    print numbered[i]\n",
      "\n",
      "print \"i.2) Records 20000-20010 sorted by last name:\"\n",
      "for i in range(20000,20011):\n",
      "    print numbered[i]\n",
      "\n",
      "pred = []\n",
      "val = 0.0\n",
      "#Calculating the predicting response using the formula\n",
      "for i,x in enumerate(new_data):\n",
      "    val = -40 + 0.8*x[\"WEALTH_INDEX\"] + 0.12*x[\"RFA_2F\"]\n",
      "    pred.append((val,x))\n",
      "\n",
      "#Sorting the calculated value in ascending order\n",
      "sorted_list = sorted(pred, key = lambda pred: pred[0])\n",
      "print \"j) Sorted top 10 customer records with values as the first element:\"\n",
      "print sorted_list[0:10]"
     ],
     "language": "python",
     "metadata": {},
     "outputs": [
      {
       "output_type": "stream",
       "stream": "stdout",
       "text": [
        "b) Customer with name Sneha K. O'Hooper repeated 2 times\n",
        "c) Number of rows with -9999 value: 3\n",
        "d.1) Values and Frequency of RFA_2F: {1: 12530, 2: 8134, 3: 7367, 4: 7241}\n",
        "d.2) Values and Frequency of RFA_2A: {u'E': 12884, u'D': 5074, u'G': 5125, u'F': 12189}\n",
        "d.3) Values of WEALTH_INDEX: [1.25, 1.0, 2.0, 3.0, 4.0, 5.0, 0.75, 7.0, 8.0, 9.0, 10.0, 11.0, 12.0, 13.0, 20.88, 16.0, 17.0, 18.0, 19.0, 25.15, 21.0, 44.68, 8.41, 25.0, 27.0, 0.5, 21.91, 34.0, 35.0, 6.0, 1.42, 8.75, 27.62, 14.82, 2.78, 45.0, 48.0, 10.97, 24.49, 11.62, 9.93, 11.82, 20.43, 8.44, 12.64, 12.02, 38.52, 13.46, 31.71, 7.74, 69.0, 9.23, 74.0, 20.18, 78.0, 0.48, 4.36, 15.26, 15.64, 14.08, 21.1, 17.35, 12.9, 30.77, 22.5, 11.72, 16.11, 4.3, 8.42, 42.02, 72.33, 9.08, 24.01, 53.71, 15.99, 25.41, 9.58, 20.42, 3.16, 26.59, 16.38, 31.74, 62.07, 28.48, 9.94, 3.54, 33.3, 12.44, 16.33, 22.52, 89.55, 3.92, 0.4, 2.87, 4.6, 22.74, 81.55, 15.52, 24.38, 16.78, 35.14, 8.35, 18.42, 97.03, 22.76, 11.22, 0.76, 4.01, 78.91, 5.42, 18.02, 4.83, 4.24, 10.75, 41.7, 21.3, 9.95, 1.73, 26.94, 16.83, 50.4, 24.88, 1.19, 8.78, 4.31, 12.61, 10.41, 31.51, 5.65, 4.19, 89.15, 4.54, 9.71, 0.22, 44.61, 11.45, 47.41, 17.75, 11.18, 0.7, 16.15, 4.37, 46.77, 7.94, 9.6, 4.72, 13.68, 24.18, 96.38, 10.06, 10.76, 15.51, 32.79, 15.24, 24.63, 31.81, 17.45, 12.95, 10.42, 71.16, 19.09, 1.81, 11.12, 16.73, 40.56, 51.84, 17.7, 8.71, 10.88, 5.36, 16.37, 63.59, 2.9, 17.77, 15.77, 6.28, 7.1, 2.81, 18.37, 43.04, 13.41, 20.01, 54.32, 12.23, 81.4, 11.24, 33.6, 17.09, 11.94, 18.49, 3.76, 81.3, 65.18, 20.64, 10.77, 2.17, 3.72, 4.41, 9.05, 19.41, 15.0, 23.44, 0.77, 32.11, 13.89, 4.55, 11.59, 25.55, 13.22, 86.54, 72.76, 12.05, 33.31, 18.7, 41.95, 22.86, 13.11, 0.1, 4.96, 10.78, 0.31, 1.96, 61.18, 60.24, 29.8, 7.89, 79.27, 11.71, 45.82, 18.03, 27.04, 55.66, 13.93, 1.9, 3.51, 34.94, 68.08, 96.31, 19.96, 13.23, 17.81, 21.07, 17.43, 1.68, 93.95, 12.76, 1.01, 20.0, 27.88, 21.6, 33.5, 12.96, 81.22, 25.43, 10.4, 28.9, 15.18, 12.42, 87.66, 52.73, 19.45, 13.12, 22.71, 20.51, 34.64, 88.75, 91.34, 2.42, 6.36, 23.02, 13.58, 28.42, 9.12, 38.57, 81.9, 93.93, 57.85, 21.09, 52.23, 22.49, 2.53, 69.46, 6.87, 14.4, 1.13, 14.03, 16.3, 8.28, 9.1, 61.08, 9.92, 26.99, 19.39, 31.12, 10.74, 16.63, 0.53, 16.46, 18.67, 14.63, 5.78, 8.54, 13.36, 13.56, 22.27, 12.89, 10.18, 14.38, 1.48, 30.68, 14.75, 42.2, 17.55, 13.95, 19.35, 19.19, 17.72, 38.87, 5.96, 0.99, 12.78, 65.36, 37.43, 71.46, 16.32, 3.55, 6.19, 6.54, 22.03, 14.01, 59.19, 12.41, 85.38, 55.46, 39.27, 16.7, 6.72, 15.23, 0.01, 38.37, 8.56, 14.06, 6.95, 14.76, 30.78, 1.3, 33.75, 17.27, 16.06, 12.88, 21.7, 7.01, 69.32, 33.56, 28.98, 32.26, 89.25, 14.88, 63.49, 24.37, 15.58, 27.71, 18.66, 2.94, 16.58, 5.06, 34.62, 7.16, 22.22, 5.47, 18.62, 6.57, 19.86, 24.26, 7.98, 25.47, 34.1, 14.56, 17.98, 53.62, 6.14, 3.03, 98.3, 34.05, 5.88, 34.61, 2.97, 6.29, 27.41, 5.7, 0.54, 7.11, 14.07, 37.33, 77.82, 3.06, 51.89, 6.55, 8.89, 15.59, 10.99, 58.74, 48.56, 3.35, 88.91, 11.69, 7.13, 14.89, 19.6, 17.28, 1.75, 51.19, 96.85, 19.4, 58.4, 17.65, 7.31, 4.94, 17.06, 20.32, 14.13, 7.19, 44.08, 3.59, 14.32, 26.49, 15.71, 19.29, 32.16, 11.87, 10.07, 81.11, 10.69, 28.15, 10.89, 26.57, 7.37, 13.71, 15.6, 7.72, 3.81, 12.15, 3.13, 0.42, 7.95, 12.22, 9.51, 3.04, 19.62, 9.65, 13.44, 8.33, 10.29, 9.15, 13.97, 0.39, 48.8, 4.34, 9.54, 45.23, 27.45, 17.41, 56.51, 30.71, 2.95, 21.74, 1.7, 15.88, 21.26, 10.47, 90.29, 56.26, 34.35, 9.2, 92.24, 7.14, 3.53, 13.9, 30.01, 21.04, 21.25, 90.45, 92.96, 0.55, 19.64, 29.52, 37.58, 19.24, 23.64, 32.86, 16.97, 25.28, 7.55, 8.51, 30.92, 1.41, 1.66, 22.68, 1.77, 10.11, 3.85, 9.31, 18.52, 10.01, 24.16, 17.8, 8.2, 19.44, 7.96, 3.63, 50.65, 1.82, 72.46, 21.06, 10.37, 17.21, 11.57, 1.62, 10.13, 21.38, 10.83, 22.92, 32.41, 4.4, 35.69, 44.49, 8.38, 10.49, 7.57, 11.19, 73.26, 25.96, 4.58, 98.6, 10.02, 16.51, 11.65, 0.52, 23.13, 17.91, 20.23, 24.31, 23.96, 5.34, 13.2, 19.59, 61.48, 24.34, 3.65, 17.23, 49.56, 18.63, 4.99, 0.15, 10.84, 25.26, 12.47, 26.66, 3.94, 24.83, 18.58, 15.47, 8.84, 18.47, 24.15, 22.87, 9.66, 87.27, 28.51, 8.48, 14.72, 11.2, 46.36, 25.98, 19.33, 61.92, 10.03, 0.56, 11.66, 25.23, 9.3, 21.75, 2.26, 55.41, 4.29, 16.53, 74.06, 55.25, 11.7, 13.18, 1.29, 33.11, 17.4, 2.34, 10.85, 84.27, 12.48, 16.31, 29.94, 4.76, 12.01, 3.36, 66.5, 20.44, 55.62, 5.52, 11.67, 2.67, 17.95, 12.37, 2.37, 5.17, 0.49, 3.31, 52.49, 4.39, 12.83, 6.8, 26.92, 20.27, 31.54, 4.21, 5.4, 4.82, 7.77, 5.62, 5.75, 16.82, 56.02, 5.93, 20.46, 12.49, 36.82, 26.7, 13.19, 9.48, 78.39, 59.1, 4.52, 5.58, 7.93, 5.03, 15.3, 37.83, 6.34, 89.76, 4.44, 84.19, 28.83, 26.1, 5.23, 26.3, 11.32, 95.71, 6.06, 13.54, 21.23, 14.14, 33.01, 6.75, 31.37, 20.22, 12.84, 37.04, 14.47, 90.83, 13.3, 52.29, 2.08, 58.85, 3.95, 74.85, 38.13, 23.33, 0.41, 17.53, 29.54, 12.03, 9.67, 13.66, 78.33, 2.46, 91.79, 8.53, 11.35, 63.25, 10.17, 19.49, 2.75, 19.89, 14.99, 1.02, 1.06, 36.64, 32.57, 19.17, 12.85, 14.48, 20.31, 4.14, 12.79, 5.76, 13.31, 11.61, 3.86, 9.81, 3.41, 8.43, 10.63, 3.46, 2.49, 18.05, 47.78, 5.41, 23.69, 1.71, 15.43, 6.52, 0.97, 13.67, 44.43, 38.43, 14.37, 3.27, 6.1, 6.17, 90.44, 3.68, 14.83, 24.27, 17.25, 6.4, 5.82, 6.93, 12.14, 14.49, 16.48, 15.19, 90.26, 26.62, 83.6, 14.02, 15.78, 94.13, 6.12, 15.65, 39.91, 6.23, 16.56, 73.49, 7.34, 38.93, 19.84, 62.78, 17.48, 58.06, 14.84, 1.27, 7.69, 17.18, 7.32, 21.08, 0.29, 26.72, 19.12, 36.54, 28.36, 20.76, 55.82, 2.58, 26.65, 43.1, 15.2, 17.9, 26.28, 52.17, 1.98, 59.05, 0.68, 15.66, 18.82, 29.19, 1.08, 84.95, 14.96, 8.08, 36.29, 26.85, 17.42, 3.25, 3.34, 3.05, 14.85, 34.93, 0.32, 6.76, 15.31, 8.9, 12.07, 26.17, 52.35, 70.09, 3.5, 30.61, 40.12, 27.11, 87.37, 18.15, 73.96, 33.96, 29.21, 82.12, 7.17, 72.68, 4.93, 4.11, 19.76, 9.72, 27.79, 14.12, 8.32, 21.43, 19.27, 12.94, 11.14, 9.96, 20.71, 55.71, 20.48, 78.55, 2.91, 28.09, 18.94, 9.76, 19.54, 12.58, 2.5, 26.35, 13.4, 14.22, 15.32, 10.12, 74.35, 10.43, 54.23, 29.23, 36.07, 22.58, 33.51, 25.71, 94.34, 1.92, 46.57, 52.32, 4.2, 80.77, 9.26, 43.35, 23.5, 38.63, 31.33, 59.3, 19.56, 81.92, 9.38, 1.6, 28.53, 5.85, 38.58, 19.74, 24.14, 3.84, 17.78, 37.14, 19.42, 87.92, 10.44, 3.29, 7.26, 5.67, 85.03, 19.02, 4.08, 10.9, 16.66, 4.49, 16.41, 22.3, 19.94, 13.83, 40.37, 8.73, 7.76, 10.79, 22.84, 34.21, 5.9, 32.9, 77.15, 30.87, 36.63, 1.09, 7.82, 4.38, 10.55, 37.49, 23.76, 10.45, 4.42, 31.59, 72.57, 16.43, 40.02, 19.69, 43.71, 4.79, 9.25, 20.81, 0.88, 22.14, 18.45, 9.45, 20.09, 87.85, 2.55, 26.58, 4.62, 0.3, 2.32, 25.18, 10.27, 3.23, 11.09, 26.97, 19.37, 99.08, 13.91, 20.61, 17.01, 12.73, 25.84, 81.43, 7.35, 27.24, 62.88, 83.1, 78.74, 10.92, 1.87, 2.14, 16.45, 19.71, 3.96, 20.84, 13.55, 26.25, 29.79, 32.84, 98.97, 17.37, 12.08, 92.85, 2.83, 34.11, 56.67, 11.74, 25.2, 11.36, 11.21, 11.27, 8.91, 26.39, 80.53, 3.99, 2.27, 87.09, 37.25, 32.03, 7.09, 98.17, 19.73, 57.01, 98.59, 2.36, 3.64, 12.09, 13.72, 22.05, 16.04, 19.08, 5.38, 11.29, 60.94, 12.55, 11.39, 64.11, 13.25, 24.96, 66.82, 21.29, 1.89, 11.28, 1.24, 12.91, 1.37, 41.45, 5.44, 2.68, 42.6, 12.21, 21.35, 19.03, 37.55, 14.43, 34.01, 1.55, 1.33, 54.09, 12.1, 5.97, 13.73, 99.83, 67.79, 13.8, 84.81, 37.29, 13.26, 74.52, 20.94, 29.9, 0.82, 7.08, 34.8, 0.09, 1.03, 20.45, 13.62, 11.93, 6.61, 14.78, 2.39, 11.6, 18.25, 39.08, 14.42, 23.99, 16.39, 13.24, 17.63, 6.98, 23.67, 13.74, 22.09, 14.44, 33.4, 5.39, 11.04, 18.97, 11.86, 13.27, 12.06, 23.27, 8.68, 7.52, 8.88, 7.67, 36.2, 18.55, 49.95, 16.19, 12.57, 48.87, 33.25, 89.6, 14.79, 23.73, 17.08, 50.71, 5.8, 15.95, 57.42, 74.18, 14.09, 31.76, 15.72, 22.79, 0.79, 33.91, 14.55, 13.39, 60.79, 91.17, 32.47, 15.25, 15.45, 65.4, 18.72, 6.21, 39.49, 13.28, 6.56, 14.91, 12.12, 81.73, 17.32, 6.44, 3.18, 6.79, 14.21, 29.06, 30.14, 22.7, 65.61, 16.34, 38.98, 39.78, 37.64, 34.26, 90.07, 6.62, 77.25, 14.1, 6.97, 24.91, 15.73, 95.09, 18.96, 21.58, 5.31, 0.58, 6.41, 7.2, 27.22, 5.72, 31.62, 6.82, 8.15, 28.86, 50.79, 17.26, 4.23, 5.45, 52.1, 63.38, 15.68, 26.29, 14.92, 44.05, 5.13, 5.54, 18.74, 18.5, 5.95, 3.91, 7.36, 18.26, 8.97, 26.77, 77.85, 2.44, 88.38, 8.5, 16.95, 15.74, 79.88, 8.86, 18.98, 6.39, 84.41, 8.16, 27.35, 18.04, 22.82, 28.41, 52.45, 15.57, 72.09, 4.75, 14.57, 1.39, 22.65, 39.68, 91.96, 93.56, 50.96, 71.95, 74.68, 9.11, 8.98, 71.99, 2.05, 16.29, 8.37, 10.57, 17.93, 45.44, 9.19, 15.39, 9.39, 19.57, 20.6, 41.52, 8.21, 21.21, 11.37, 20.53, 20.24, 24.11, 7.21, 6.01, 8.17, 2.96, 16.01, 59.63, 8.01, 8.87, 31.22, 8.83, 3.87, 18.85, 13.65, 8.63, 7.79, 8.47, 8.69, 9.33, 1.47, 29.35, 19.92, 30.75, 39.23, 18.07, 22.67, 29.15, 58.51, 35.31, 7.62, 37.94, 62.59, 8.99, 7.97, 9.24, 75.21, 8.52, 0.59, 10.15, 30.65, 96.24, 1.56, 4.59, 44.3, 10.04, 28.45, 65.33, 4.8, 9.34, 3.39, 3.45, 16.55, 0.23, 16.24, 16.64, 34.86, 21.88, 90.48, 18.28, 20.02, 10.5, 23.92, 15.11, 9.7, 0.74, 3.48, 21.2, 7.58, 58.67, 65.71, 5.43, 1.28, 10.16, 31.52, 21.16, 18.19, 3.77, 18.8, 24.44, 9.46, 0.11, 9.02, 4.85, 11.68, 1.21, 0.35, 17.97, 9.35, 10.98, 33.67, 16.57, 51.69, 5.2, 25.81, 10.51, 40.97, 22.12, 29.39, 0.17, 86.7, 8.22, 32.87, 90.57, 81.13, 18.21, 10.21, 90.17, 7.73, 15.33, 17.31, 30.95, 13.7, 4.65, 20.59, 55.48, 18.23, 45.94, 5.18, 0.6, 11.02, 3.57, 10.52, 17.83, 15.34, 31.47, 23.87, 62.04, 12.16, 3.33, 17.51, 33.32, 12.98, 83.43, 4.48, 63.88, 9.82, 9.97, 58.8, 5.59, 2.99, 12.04, 65.83, 9.8, 18.75, 0.33, 5.24, 11.34, 3.89, 20.55, 41.63, 7.41, 11.8, 10.64, 6.6, 24.24, 82.93, 12.86, 0.05, 3.98, 8.09, 28.38, 10.53, 22.19, 36.95, 89.09, 11.46, 9.5, 17.66, 24.59, 2.2, 36.9, 57.25, 30.9, 9.61, 11.43, 32.18, 96.6, 43.46, 46.46, 69.12, 5.64, 5.05, 30.94, 5.01, 5.46, 11.81, 19.83, 5.87, 19.82, 28.6, 11.44, 21.46, 4.66, 5.77, 4.77, 12.17, 4.18, 5.28, 18.95, 12.87, 7.59, 4.69, 27.1, 52.5, 1.46, 12.63, 0.45, 13.33, 21.27, 11.25, 5.07, 40.53, 32.12, 53.94, 6.18, 94.75, 12.99, 27.7, 18.29, 0.61, 5.83, 12.52, 2.56, 38.29, 0.69, 24.13, 0.83, 52.85, 1.14, 6.59, 71.8, 14.04, 29.34, 33.68, 23.63, 89.98, 6.24, 13.34, 9.03, 12.3, 9.85, 24.55, 8.67, 16.49, 16.89, 43.36, 11.49, 30.13, 7.99, 14.5, 20.17, 33.92, 14.86, 9.55, 2.76, 15.29, 3.28, 12.53, 3.83, 12.11, 14.16, 12.31, 19.77, 10.93, 9.13, 9.59, 37.2, 19.05, 15.03, 16.69, 33.87, 2.7, 2.41, 6.13, 3.19, 2.18, 7.83, 21.65, 2.6, 31.28, 80.15, 13.35, 14.98, 64.52, 22.81, 2.79, 9.4, 14.05, 13.81, 75.39, 23.08, 41.47, 23.17, 0.9, 5.66, 18.18, 21.44, 3.17, 25.78, 6.77, 72.98, 3.88, 14.17, 22.95, 14.87, 26.21, 90.13, 6.42, 11.03, 12.66, 16.76, 21.56, 36.85, 31.2, 0.87, 6.65, 6.07, 0.43, 22.48, 1.04, 23.19, 92.71, 7.18, 12.43, 73.88, 8.11, 31.7, 15.69, 44.81, 6.83, 19.47, 1.91, 14.52, 1.23, 16.12, 89.53, 21.36, 21.76, 45.1, 6.48, 40.38, 13.82, 81.74, 1.44, 8.93, 82.83, 41.68, 7.24, 7.07, 8.23, 70.51, 90.79, 25.29, 2.88, 2.59, 27.28, 15.8, 22.25, 7.53, 19.1, 20.13, 18.9, 26.69, 15.7, 14.18, 3.26, 21.4, 14.53, 3.97, 8.12, 22.97, 30.19, 45.45, 12.75, 15.46, 8.58, 42.12, 53.4, 20.65, 31.16, 96.65, 8.24, 25.72, 1.53, 8.94, 16.79, 10.62, 10.82, 18.43, 54.44, 15.44, 9.64, 24.07, 33.72, 12.46, 21.71, 65.56, 3.67, 27.53, 19.36, 0.46, 10.26, 15.08, 21.24, 0.85, 7.42, 12.72, 27.87, 10.22, 0.71, 33.54, 40.23, 67.08, 0.63, 59.51, 7.6, 30.17, 71.2, 29.99, 95.95, 1.93, 3.58, 12.25, 34.02, 37.35, 7.48, 4.04, 56.63, 15.82, 41.23, 67.37, 30.43, 16.75, 1.67, 95.36, 23.58, 35.46, 31.63, 17.96, 10.23, 2.4, 71.01, 7.65, 3.38, 4.68, 4.1, 9.06, 4.45, 17.14, 18.38, 18.78, 20.78, 16.42, 8.74, 24.61, 9.41, 7.51, 9.42, 7.92, 26.83, 28.02, 4.33, 23.82, 6.74, 31.3, 0.81, 26.82, 24.94, 31.85, 17.04, 94.46, 29.4, 4.15, 38.3, 10.24, 29.03, 22.2, 25.46, 33.62, 40.14, 9.77, 47.49, 0.26, 33.97, 0.34, 7.66, 25.75, 42.17, 87.63, 2.43, 4.05, 0.64, 31.87, 21.81, 4.28, 11.95, 4.61, 41.54, 48.48, 11.05, 9.89, 20.52, 11.75, 1.2, 10.95, 30.18, 33.55, 2.65, 12.77, 18.33, 9.78, 4.81, 13.59, 2.06, 20.37, 14.41, 17.61, 18.01, 11.23, 10.71, 2.02, 2.01, 7.23, 12.93, 8.95, 2.47, 10.05, 10.6, 29.44, 11.06, 8.07, 44.11, 11.76, 1.43, 34.67, 11.64, 26.9, 5.81, 11.42, 85.51, 24.56, 27.82, 61.95, 11.88, 5.86, 7.33, 31.4, 31.61, 57.18, 71.12, 29.46, 4.64, 25.04, 59.66, 18.68, 62.94, 55.74, 2.22, 80.56, 58.22, 21.41, 21.96, 11.07, 8.59, 15.86, 13.29, 1.58, 2.31, 31.6, 10.56, 12.59, 0.65, 5.63, 13.05, 1.51, 52.81, 92.78, 13.75, 32.09, 1.1, 1.72, 57.56, 30.88, 11.78, 5.21, 28.54, 5.69, 37.85, 51.28, 6.04, 12.71, 2.28, 9.75, 67.24, 22.35, 73.8, 45.8, 14.93, 80.36, 0.51, 70.92, 38.16, 54.26, 14.23, 15.28, 8.1, 2.07, 10.1, 12.92, 16.99, 17.39, 52.36, 9.74, 22.63, 13.76, 9.73, 63.64, 82.44, 28.78, 68.04, 16.67, 16.9, 26.84, 26.11, 15.54, 13.42, 71.91, 8.36, 12.56, 16.27, 1.18, 9.18, 13.38, 21.18, 54.2, 53.22, 13.88, 6.86, 17.19, 14.58, 50.87, 33.85, 30.42, 2.69, 77.61, 41.05, 7.43, 14.24, 14.94, 17.38, 13.77, 23.23, 39.99, 15.4, 20.83, 34.47, 18.3, 13.07, 0.66, 8.18, 73.64, 18.08, 8.77, 6.05, 72.71, 68.84, 14.59, 22.06, 16.68, 3.66, 3.1, 1.74, 26.38, 17.34, 6.63, 15.05, 26.98, 36.26, 37.06, 22.39, 15.75, 3.21, 67.84, 8.79, 14.95, 19.72, 6.46, 28.37, 30.58, 4.56, 3.07, 6.66, 16.22, 4.97, 20.62, 4.07, 17.86, 26.26, 5.48, 6.69, 46.1, 7.04, 28.13, 41.38, 16.92, 37.28, 6.38, 26.15, 5.79, 19.5, 6.2, 14.6, 7.22, 8.64, 5.61, 0.16, 15.06, 7.45, 36.61, 17.62, 8.65, 25.8, 93.85, 35.17, 5.56, 74.66, 15.42, 15.36, 60.86, 16.25, 7.86, 20.89, 26.37, 59.12, 62.4, 23.65, 6.78, 14.26, 8.3, 73.08, 83.88, 9.36, 0.24, 19.98, 6.64, 17.29, 60.16, 10.87, 9.07, 26.93, 39.44, 9.69, 3.22, 1.59, 34.72, 1.5, 14.71, 22.21, 4.06, 2.38, 0.92, 12.51, 2.29, 11.33, 7.05, 23.85, 14.15, 14.97, 20.68, 7.28, 3.6, 8.31, 7.63, 50.03, 1.26, 15.89, 9.01, 53.31, 3.7, 40.59, 16.61, 7.46, 4.02, 52.76, 7.81, 97.04, 3.11, 22.32, 59.07, 2.72, 90.9, 70.93, 0.07, 9.83, 28.03, 46.3, 25.68, 25.36, 85.33, 80.94, 7.87, 39.94, 4.43, 9.49, 1.49, 35.21, 10.19, 98.71, 11.3, 98.35, 17.64, 36.86, 18.88, 10.65, 19.28, 56.14, 29.67, 20.92, 59.42, 27.43, 17.82, 5.99, 1.99, 10.54, 16.52, 3.09, 18.16, 23.45, 38.7, 19.8, 9.84, 17.44, 23.26, 11.47, 7.54, 45.08, 24.66, 3.69, 1.17, 0.67, 86.35, 1.32, 10.3, 9.14, 61.21, 14.29, 10.36, 10.2, 3.71, 31.09, 17.33, 7.64, 67.05, 36.41, 10.66, 55.69, 93.58, 1.84, 34.97, 43.77, 0.93, 46.66, 97.26, 0.44, 16.85, 21.64, 30.93, 12.18, 1.4, 2.09, 1.78, 18.46, 18.31, 24.68, 96.09, 22.31, 23.95, 14.2, 10.31, 34.28, 19.23, 11.01, 0.21, 11.17, 98.25, 3.4, 25.11, 5.02, 15.02, 18.83, 10.67, 6.26, 11.84, 16.47, 23.06, 28.87, 40.04, 8.66, 18.11, 2.12, 64.87, 51.32, 11.48, 4.67, 17.17, 11.13, 16.87, 8.96, 4.32, 5.25, 15.35, 14.3, 19.75, 29.53, 17.59, 12.19, 18.99, 5.08, 0.86, 28.14, 51.77, 37.11, 18.51, 12.65, 8.57, 54.57, 19.91, 4.73, 2.74, 10.32, 5.84, 12.54, 3.9, 8.02, 1.57, 5.49, 13.47, 51.62, 7.02, 48.22, 58.18, 66.56, 61.46, 41.75, 12.2, 0.2, 27.98, 5.89, 21.33, 6.3, 21.54, 6.71, 0.62, 85.07, 5.12, 54.61, 56.74, 3.37, 55.28, 30.3, 26.46, 11.96, 94.14, 20.85, 18.53, 6.02, 5.1, 6.43, 6.53, 4.84, 2.3, 5.94, 86.67, 28.1, 38.5, 11.85, 13.48, 1.8, 31.94, 5.26, 33.73, 67.51, 12.69, 37.81, 4.25, 32.51, 23.12, 41.09, 4.91, 2.19, 12.67, 13.37, 32.29, 95.77, 2.62, 4.09, 13.13, 34.13, 15.83, 6.31, 46.8, 5.32, 98.36, 6.25, 13.49, 3.15, 14.19, 11.53, 22.99, 12.35, 6.08, 9.17, 21.49, 19.51, 13.02, 9.99, 19.13, 16.21, 16.8, 12.32, 59.22, 6.84, 9.79, 15.67, 14.54, 14.61, 3.61, 10.81, 2.66, 9.43, 13.63, 41.36, 6.49, 24.05, 8.61, 13.84, 17.69, 0.27, 34.43, 13.14, 2.52, 16.1, 14.25, 2.33, 6.85, 80.18, 83.19, 3.93, 62.2, 77.49, 13.03, 14.9, 32.19, 34.17, 40.99, 23.93, 2.71, 37.08, 13.96, 24.85, 22.53, 1.07, 28.32, 2.8, 8.14, 13.85, 15.48, 0.02, 18.56, 83.24, 16.2, 24.76, 3.73, 14.31, 33.98, 26.16, 19.48, 15.01, 46.06, 24.17, 2.35, 41.34, 5.91, 1.15, 8.27, 14.67, 7.39, 28.72, 16.84, 15.37, 26.36, 3.12, 18.76, 6.67, 15.13, 50.38, 17.76, 8.72, 0.12, 76.3, 6.9, 1.97, 7.25, 1.31, 8.25, 15.49, 27.78, 15.53, 42.33, 99.85, 95.98, 84.94, 20.8, 25.13, 2.86, 6.73, 1.35, 0.57, 16.14, 7.84, 40.25, 7.49, 23.59, 37.5, 15.84, 52.12, 12.8, 22.44, 20.15, 34.68, 8.26, 36.09, 80.38, 25.79, 53.16, 15.12, 11.38, 9.32, 19.43, 13.94, 33.24, 10.14, 20.82, 10.96, 18.71, 11.41, 15.96, 22.33, 26.53, 6.03, 30.25, 1.34, 8.76, 11.58, 77.19, 16.35, 12.4, 15.85, 9.22, 4.87, 9.44, 58.23, 2.77, 9.9, 46.31, 24.08, 28.17, 3.24, 57.59, 19.18, 0.78, 74.21, 4.22, 31.21, 66.37, 2.15, 37.42, 72.93, 80.79, 9.09, 30.73, 50.63, 10.72, 94.98, 32.63, 30.27, 7.9, 16.4, 7.85, 10.61, 29.59, 18.35, 34.18, 10.48, 75.02, 6.35, 42.58, 17.74, 9.91, 23.38, 19.78, 38.75, 71.04, 21.42, 67.67, 9.21, 0.19, 13.32, 48.25, 4.17, 6.58, 4.12, 6.99, 47.7, 20.3, 4.47, 10.73, 24.36, 0.36, 21.47, 9.56, 4.7, 66.46, 68.06, 54.21, 7.4, 21.78, 25.5, 13.86, 19.11, 16.86, 19.53, 66.17, 1.11, 67.47, 23.6, 2.24, 10.38, 5.11, 45.49, 67.64, 67.26, 11.08, 0.03, 3.8, 13.99, 3.56, 94.92, 30.31, 18.81, 17.11, 17.49, 24.45, 8.45, 18.09, 35.28, 27.73, 11.9, 1.54, 46.56, 3.74, 7.8, 7.91, 2.57, 9.27, 2.98, 11.79, 10.09, 24.97, 17.73, 21.37, 10.91, 18.61, 19.01, 2.11, 11.73, 97.67, 20.05, 17.94, 2.89, 11.55, 8.55, 20.25, 1.88, 85.72, 40.19, 4.71, 34.83, 32.78, 11.91, 3.75, 21.69, 60.67, 1.85, 10.08, 17.03, 75.41, 13.43, 36.05, 28.58, 11.1, 27.09, 16.81, 27.18, 88.22, 30.44, 20.4, 11.56, 68.56, 12.26, 5.22, 12.97, 25.61, 94.99, 22.04, 11.92, 0.94, 21.32, 45.02, 30.96, 78.92, 12.38, 6.11, 13.08, 1.05, 1.79, 21.9, 73.23, 16.6, 12.74, 15.76, 3.2, 2.1, 2.23, 30.46, 4.89, 1.22, 50.73, 12.27, 59.53, 21.01, 62.01, 0.47, 22.41, 34.09, 4.88, 4.26, 4.35, 13.87, 13.79, 21.14, 57.29, 5.3, 2.61, 51.99, 63.85, 13.09, 1.94, 35.13, 9.62, 5.53, 63.8, 61.66, 12.39, 43.95, 13.45, 25.97, 4.9, 13.78, 70.3, 5.71, 12.6, 29.09, 17.99, 30.39, 12.24, 19.63, 34.42, 57.64, 72.03, 88.08, 23.35, 8.04, 24.75, 10.86, 13.06, 25.27, 3.79, 9.68, 9.88, 0.37, 13.1, 6.47, 14.73, 26.19, 10.28, 6.15, 6.7, 77.73, 0.04, 0.95, 7.61, 20.49, 1.69, 13.92, 14.62, 33.99, 67.17, 16.74, 53.27, 15.38, 65.15, 2.64, 96.35, 14.74, 16.98, 2.73, 11.77, 27.06, 28.7, 4.46, 22.34, 50.98, 14.27, 25.01, 15.9, 93.82, 47.06, 3.02, 11.54, 13.57, 65.13, 19.58, 6.81, 9.28, 6.91, 17.22, 6.22, 25.62, 6.32, 30.86, 27.13, 5.73, 15.09, 0.91, 17.68, 8.39, 94.3, 6.88, 4.63, 14.39, 51.95, 5.04, 16.28, 16.5, 6.45, 40.31, 4.86, 20.72, 13.52, 94.8, 14.28, 7.06, 1.61, 0.73, 15.91, 62.61, 6.94, 7.29, 15.21, 10.25, 26.09, 7.12, 33.94, 15.1, 7.47, 0.25, 0.89, 2.82, 28.07, 16.65, 20.73, 15.56, 7.7, 38.96, 40.57, 97.7, 0.96, 3.3, 22.29, 15.92, 9.37, 9.04, 9.57, 19.93, 19.34, 8.19, 10.39, 17.57, 36.72, 13.21, 23.21, 8.34, 27.37, 3.14, 2.21, 2.93, 13.01, 8.8, 11.83, 3.62, 28.85, 14.65, 9.86, 9.47, 20.98, 59.62, 6.89, 5.29, 7.75, 3.52, 85.75, 8.46, 31.99, 3.78, 10.68, 10.94, 7.3, 48.35, 88.84, 30.51, 2.84, 78.8, 40.3, 8.81, 7.88, 89.33, 16.18, 86.45, 40.45, 7.71, 4.27, 11.89, 18.24, 18.64, 9.87, 31.88, 66.48, 20.28, 17.92, 61.42, 0.28, 9.63, 21.31, 10.33, 1.45, 0.38, 21.92, 21.52, 19.16, 56.7, 24.8, 18.44, 3.32, 1.64, 1.38, 0.72, 22.51, 48.16, 1.36, 11.15, 0.13, 24.58, 16.91, 28.05, 8.82, 16.71, 5.09, 62.41, 23.34, 34.49, 81.58, 37.77, 3.47, 4.74, 16.77, 10.34, 11.97, 31.68, 3.43, 70.83, 2.25, 7.03, 10.8, 74.73, 7.38, 11.5, 6.37, 10.7, 10.59, 27.31, 39.18, 68.11, 24.95, 8.7, 9.53, 18.59, 43.48, 11.16, 16.23, 24.04, 39.56, 66.28, 86.25, 8.6, 10.46, 1.76, 9.52, 31.83, 12.68, 14.34, 17.47, 5.6, 19.97, 9.16, 31.11, 7.78, 9.98, 10.35, 40.6, 19.21, 11.98, 73.95, 18.57, 2.04, 25.39, 4.51, 0.14, 69.86, 11.51, 23.75, 0.84, 20.75, 4.16, 17.36, 5.27, 51.83, 62.87, 69.31, 24.06, 24.47, 4.92, 88.68, 11.63, 12.33, 31.58, 0.06, 25.92, 5.15, 4.57, 5.5, 7.56, 5.68, 11.99, 3.82, 28.96, 40.9, 5.33, 20.9, 0.98, 1.86, 11.52, 84.85, 57.39, 13.15, 52.78, 56.57, 20.91, 4.98, 5.14, 5.55, 18.54, 6.96, 13.04, 1.63, 5.37, 42.74, 21.82, 28.74, 4.53, 5.74, 32.48, 27.97, 12.34, 7.44, 28.26, 2.13, 6.27, 7.68, 4.78, 89.63, 6.09, 75.23, 5.19, 17.89, 13.5, 85.71, 20.35, 12.7, 0.8, 4.95, 2.51, 17.71, 2.48, 35.73, 13.16, 4.5, 87.79, 51.09, 11.26, 2.45, 2.16, 14.68, 93.21, 50.29, 27.03, 79.9, 13.98, 19.31, 23.74, 1.16, 2.54, 5.51, 32.8, 12.81, 34.07, 13.51, 30.6, 66.73, 36.43, 5.16, 31.18, 8.03, 2.92, 8.62, 8.85, 0.18, 13.17, 1.95, 14.77, 18.89, 8.49, 16.13, 71.59, 42.64, 18.17, 5.92, 22.11, 58.38, 21.87, 23.83, 22.62, 12.29, 2.03, 3.08, 5.57, 11.11, 11.31, 25.77, 6.5, 8.13, 3.49, 6.68, 21.05, 45.71, 18.69, 14.69, 37.87, 16.88, 6.33, 3.44, 12.13, 15.15, 9.29, 1.65, 2.85, 5.98, 12.82, 15.04, 31.34, 17.58, 25.63, 8.06, 15.97, 6.16, 2.63, 1.83, 4.03, 62.66, 14.8, 13.64, 1.12, 16.09, 64.69, 15.5, 56.75, 14.7, 3.01, 31.56, 23.2, 17.2, 8.92, 13.53, 18.84, 15.16, 24.48, 28.19, 40.66, 14.46, 23.53, 17.84, 16.08, 19.06, 26.75, 5.35, 21.72, 26.12, 81.28, 31.36, 24.02, 14.35, 15.98, 0.08, 19.46, 6.51, 14.81, 1.52, 18.41, 8.4, 11.4, 24.12, 83.12, 94.51, 3.42, 7.27, 41.83, 15.17, 8.29, 39.61, 15.87, 42.89, 20.36, 6.92, 15.63, 88.03, 25.87, 20.16, 88.58, 7.15, 4.13, 8.05, 7.5, 27.27, 75.53]\n",
        "e) Proportion of target consumers responding: 0.0631095486505\n",
        "f.1) WEALTH_INDEX unique values for responders: 1510\n",
        "f.2) WEALTH_INDEX unique values for non-responders: 2468\n"
       ]
      },
      {
       "metadata": {},
       "output_type": "display_data",
       "png": "[encoded data removed]",
       "text": [
        "<matplotlib.figure.Figure at 0x1097cc3d0>"
       ]
      },
      {
       "metadata": {},
       "output_type": "display_data",
       "png": "[encoded data removed]",
       "text": [
        "<matplotlib.figure.Figure at 0x10aa25810>"
       ]
      },
      {
       "output_type": "stream",
       "stream": "stdout",
       "text": [
        "h.1) Records 1-10 sorted by first name:\n",
        "{u'RFA_2F': 2, u'RFA_2A': u'E', u'TARGET_B': 0, u'LASTGIFT': 10, u'AVGGIFT': 9.3541666667, u'PEPSTRFL': u'X', u'LASTDATE': 9612, u'WEALTH_INDEX': 2.52, u'INCOME': 5, u'FISTDATE': 9104, u'NAME': u'Abby A. Bhandari'}\n",
        "{u'RFA_2F': 4, u'RFA_2A': u'E', u'TARGET_B': 0, u'LASTGIFT': 7, u'AVGGIFT': 7.4615384615, u'PEPSTRFL': u'X', u'LASTDATE': 9512, u'WEALTH_INDEX': 0.2, u'INCOME': 7, u'FISTDATE': 9401, u'NAME': u'Abby A. Casagrande Sr.'}\n",
        "{u'RFA_2F': 3, u'RFA_2A': u'F', u'TARGET_B': 0, u'LASTGIFT': 20, u'AVGGIFT': 16.066666667, u'PEPSTRFL': u'X', u'LASTDATE': 9512, u'WEALTH_INDEX': 0.27, u'INCOME': 4, u'FISTDATE': 8612, u'NAME': u'Abby A. Cedrone'}\n",
        "{u'RFA_2F': 4, u'RFA_2A': u'F', u'TARGET_B': 0, u'LASTGIFT': 10, u'AVGGIFT': 13.1, u'PEPSTRFL': u'X', u'LASTDATE': 9512, u'WEALTH_INDEX': 2.24, u'INCOME': 5, u'FISTDATE': 9110, u'NAME': u'Abby A. Choi'}\n",
        "{u'RFA_2F': 3, u'RFA_2A': u'E', u'TARGET_B': 0, u'LASTGIFT': 10, u'AVGGIFT': 10, u'PEPSTRFL': u'X', u'LASTDATE': 9602, u'WEALTH_INDEX': 6.45, u'INCOME': 7, u'FISTDATE': 9503, u'NAME': u'Abby A. Cohodes'}\n",
        "{u'RFA_2F': 1, u'RFA_2A': u'E', u'TARGET_B': 0, u'LASTGIFT': 10, u'AVGGIFT': 8.25, u'PEPSTRFL': u'X', u'LASTDATE': 9505, u'WEALTH_INDEX': 4.69, u'INCOME': 1, u'FISTDATE': 8612, u'NAME': u'Abby A. Feng Jr.'}\n",
        "{u'RFA_2F': 3, u'RFA_2A': u'D', u'TARGET_B': 0, u'LASTGIFT': 7, u'AVGGIFT': 4.4090909091, u'PEPSTRFL': u'X', u'LASTDATE': 9512, u'WEALTH_INDEX': 3.25, u'INCOME': 6, u'FISTDATE': 9004, u'NAME': u'Abby A. George'}\n",
        "{u'RFA_2F': 2, u'RFA_2A': u'E', u'TARGET_B': 1, u'LASTGIFT': 11, u'AVGGIFT': 9, u'PEPSTRFL': u'X', u'LASTDATE': 9509, u'WEALTH_INDEX': 4.54, u'INCOME': 2, u'FISTDATE': 8608, u'NAME': u'Abby A. Harchwani'}\n",
        "{u'RFA_2F': 2, u'RFA_2A': u'F', u'TARGET_B': 0, u'LASTGIFT': 15, u'AVGGIFT': 10.142857143, u'PEPSTRFL': u'X', u'LASTDATE': 9508, u'WEALTH_INDEX': 1.58, u'INCOME': 3, u'FISTDATE': 9402, u'NAME': u'Abby A. Ho'}\n",
        "{u'RFA_2F': 3, u'RFA_2A': u'E', u'TARGET_B': 0, u'LASTGIFT': 10, u'AVGGIFT': 8.1666666667, u'PEPSTRFL': u'X', u'LASTDATE': 9511, u'WEALTH_INDEX': 3.91, u'INCOME': 5, u'FISTDATE': 9409, u'NAME': u'Abby A. Hooper'}\n",
        "h.2) Records 20000-20010 sorted by first name:\n",
        "{u'RFA_2F': 4, u'RFA_2A': u'D', u'TARGET_B': 0, u'LASTGIFT': 5, u'AVGGIFT': 4.9565217391, u'PEPSTRFL': u'X', u'LASTDATE': 9601, u'WEALTH_INDEX': 4.87, u'INCOME': 2, u'FISTDATE': 8711, u'NAME': u'Kelly G. Shi'}\n",
        "{u'RFA_2F': 2, u'RFA_2A': u'E', u'TARGET_B': 0, u'LASTGIFT': 10, u'AVGGIFT': 7.875, u'PEPSTRFL': u'X', u'LASTDATE': 9506, u'WEALTH_INDEX': 3.71, u'INCOME': 4, u'FISTDATE': 8909, u'NAME': u'Kelly G. Zhu Jr.'}\n",
        "{u'RFA_2F': 1, u'RFA_2A': u'F', u'TARGET_B': 0, u'LASTGIFT': 16, u'AVGGIFT': 10.5, u'PEPSTRFL': u'X', u'LASTDATE': 9505, u'WEALTH_INDEX': 1.08, u'INCOME': 7, u'FISTDATE': 8701, u'NAME': u'Kelly George Jr.'}\n",
        "{u'RFA_2F': 4, u'RFA_2A': u'D', u'TARGET_B': 0, u'LASTGIFT': 5, u'AVGGIFT': 5.4736842105, u'PEPSTRFL': u'X', u'LASTDATE': 9602, u'WEALTH_INDEX': 0.93, u'INCOME': 4, u'FISTDATE': 9010, u'NAME': u'Kelly Goldston III'}\n",
        "{u'RFA_2F': 1, u'RFA_2A': u'E', u'TARGET_B': 0, u'LASTGIFT': 10, u'AVGGIFT': 9.8518518519, u'PEPSTRFL': u'X', u'LASTDATE': 9507, u'WEALTH_INDEX': 3.93, u'INCOME': 7, u'FISTDATE': 8702, u'NAME': u'Kelly H. Aiyangar'}\n",
        "{u'RFA_2F': 3, u'RFA_2A': u'F', u'TARGET_B': 0, u'LASTGIFT': 20, u'AVGGIFT': 13, u'PEPSTRFL': u'X', u'LASTDATE': 9603, u'WEALTH_INDEX': 1.67, u'INCOME': 6, u'FISTDATE': 9501, u'NAME': u'Kelly H. Aiyangar III'}\n",
        "{u'RFA_2F': 4, u'RFA_2A': u'G', u'TARGET_B': 0, u'LASTGIFT': 25, u'AVGGIFT': 18, u'PEPSTRFL': u'X', u'LASTDATE': 9512, u'WEALTH_INDEX': 2.23, u'INCOME': 5, u'FISTDATE': 9406, u'NAME': u'Kelly H. Cedrone'}\n",
        "{u'RFA_2F': 1, u'RFA_2A': u'G', u'TARGET_B': 0, u'LASTGIFT': 33, u'AVGGIFT': 25.4, u'PEPSTRFL': u'X', u'LASTDATE': 9512, u'WEALTH_INDEX': 8.43, u'INCOME': 5, u'FISTDATE': 8802, u'NAME': u'Kelly H. Cohodes'}\n",
        "{u'RFA_2F': 1, u'RFA_2A': u'E', u'TARGET_B': 1, u'LASTGIFT': 10, u'AVGGIFT': 11.5, u'PEPSTRFL': u'X', u'LASTDATE': 9512, u'WEALTH_INDEX': 7.57, u'INCOME': 2, u'FISTDATE': 8612, u'NAME': u'Kelly H. Doban'}\n",
        "{u'RFA_2F': 2, u'RFA_2A': u'F', u'TARGET_B': 0, u'LASTGIFT': 15, u'AVGGIFT': 9.3, u'PEPSTRFL': u'X', u'LASTDATE': 9601, u'WEALTH_INDEX': 2.41, u'INCOME': 1, u'FISTDATE': 9101, u'NAME': u'Kelly H. George'}\n",
        "{u'RFA_2F': 1, u'RFA_2A': u'E', u'TARGET_B': 0, u'LASTGIFT': 10, u'AVGGIFT': 6.2352941176, u'PEPSTRFL': u'X', u'LASTDATE': 9602, u'WEALTH_INDEX': 3.2, u'INCOME': 2, u'FISTDATE': 8609, u'NAME': u'Kelly H. Hao Sr.'}\n",
        "i.1) Records 1-10 sorted by last name:"
       ]
      },
      {
       "output_type": "stream",
       "stream": "stdout",
       "text": [
        "\n",
        "{u'RFA_2F': 4, u'RFA_2A': u'E', u'TARGET_B': 0, u'LASTGIFT': 10, u'AVGGIFT': 9.2352941176, u'PEPSTRFL': u'X', u'LASTDATE': 9603, u'WEALTH_INDEX': 3.05, u'INCOME': 4, u'FISTDATE': 8703, u'NAME': u'Abby Aiyangar III'}\n",
        "{u'RFA_2F': 2, u'RFA_2A': u'F', u'TARGET_B': 0, u'LASTGIFT': 20, u'AVGGIFT': 8.75, u'PEPSTRFL': u'X', u'LASTDATE': 9702, u'WEALTH_INDEX': 0.92, u'INCOME': 3, u'FISTDATE': 8812, u'NAME': u'Abby M. Aiyangar III'}\n",
        "{u'RFA_2F': 3, u'RFA_2A': u'F', u'TARGET_B': 0, u'LASTGIFT': 20, u'AVGGIFT': 9.75, u'PEPSTRFL': u'X', u'LASTDATE': 9602, u'WEALTH_INDEX': 1.7, u'INCOME': 6, u'FISTDATE': 9201, u'NAME': u'Abhishek Aiyangar III'}\n",
        "{u'RFA_2F': 2, u'RFA_2A': u'F', u'TARGET_B': 0, u'LASTGIFT': 15, u'AVGGIFT': 13, u'PEPSTRFL': u'X', u'LASTDATE': 9511, u'WEALTH_INDEX': 2.99, u'INCOME': 4, u'FISTDATE': 9210, u'NAME': u'Abhishek H. Aiyangar III'}\n",
        "{u'RFA_2F': 1, u'RFA_2A': u'F', u'TARGET_B': 0, u'LASTGIFT': 15, u'AVGGIFT': 16.233076923, u'PEPSTRFL': u'X', u'LASTDATE': 9512, u'WEALTH_INDEX': 5.28, u'INCOME': 6, u'FISTDATE': 8806, u'NAME': u'Abhishek K. Aiyangar III'}\n",
        "{u'RFA_2F': 3, u'RFA_2A': u'F', u'TARGET_B': 0, u'LASTGIFT': 17, u'AVGGIFT': 14, u'PEPSTRFL': u'X', u'LASTDATE': 9512, u'WEALTH_INDEX': 9.42, u'INCOME': 5, u'FISTDATE': 9402, u'NAME': u'Abhishek Y. Aiyangar III'}\n",
        "{u'RFA_2F': 4, u'RFA_2A': u'E', u'TARGET_B': 0, u'LASTGIFT': 11, u'AVGGIFT': 8, u'PEPSTRFL': u'X', u'LASTDATE': 9701, u'WEALTH_INDEX': 0.56, u'INCOME': 7, u'FISTDATE': 8912, u'NAME': u'Aditya Aiyangar III'}\n",
        "{u'RFA_2F': 4, u'RFA_2A': u'E', u'TARGET_B': 0, u'LASTGIFT': 10, u'AVGGIFT': 8.7777777778, u'PEPSTRFL': u'X', u'LASTDATE': 9602, u'WEALTH_INDEX': 1.98, u'INCOME': 2, u'FISTDATE': 8608, u'NAME': u'Aditya C. Aiyangar III'}\n",
        "{u'RFA_2F': 2, u'RFA_2A': u'F', u'TARGET_B': 0, u'LASTGIFT': 20, u'AVGGIFT': 11.4, u'PEPSTRFL': u'X', u'LASTDATE': 9511, u'WEALTH_INDEX': 13.94, u'INCOME': 5, u'FISTDATE': 9312, u'NAME': u'Aditya H. Aiyangar III'}\n",
        "{u'RFA_2F': 2, u'RFA_2A': u'F', u'TARGET_B': 0, u'LASTGIFT': 15, u'AVGGIFT': 12.461538462, u'PEPSTRFL': u'X', u'LASTDATE': 9601, u'WEALTH_INDEX': 21.75, u'INCOME': 7, u'FISTDATE': 8609, u'NAME': u'Aditya K. Aiyangar III'}\n",
        "i.2) Records 20000-20010 sorted by last name:\n",
        "{u'RFA_2F': 3, u'RFA_2A': u'D', u'TARGET_B': 0, u'LASTGIFT': 5, u'AVGGIFT': 5.3157894737, u'PEPSTRFL': u'X', u'LASTDATE': 9603, u'WEALTH_INDEX': 3.92, u'INCOME': 5, u'FISTDATE': 8612, u'NAME': u\"Charlotte L. O'Aiyangar\"}\n",
        "{u'RFA_2F': 2, u'RFA_2A': u'F', u'TARGET_B': 0, u'LASTGIFT': 17, u'AVGGIFT': 12.4, u'PEPSTRFL': u'X', u'LASTDATE': 9512, u'WEALTH_INDEX': 10.25, u'INCOME': 1, u'FISTDATE': 8811, u'NAME': u\"Corinne E. O'Aiyangar\"}\n",
        "{u'RFA_2F': 3, u'RFA_2A': u'E', u'TARGET_B': 0, u'LASTGIFT': 12, u'AVGGIFT': 8.75, u'PEPSTRFL': u'X', u'LASTDATE': 9602, u'WEALTH_INDEX': 7.0, u'INCOME': 4, u'FISTDATE': 8801, u'NAME': u\"Corinne F. O'Aiyangar\"}\n",
        "{u'RFA_2F': 1, u'RFA_2A': u'G', u'TARGET_B': 0, u'LASTGIFT': 32, u'AVGGIFT': 14.129375, u'PEPSTRFL': u'X', u'LASTDATE': 9509, u'WEALTH_INDEX': 1.65, u'INCOME': 4, u'FISTDATE': 8802, u'NAME': u\"Corinne S. O'Aiyangar\"}\n",
        "{u'RFA_2F': 4, u'RFA_2A': u'E', u'TARGET_B': 1, u'LASTGIFT': 9, u'AVGGIFT': 9, u'PEPSTRFL': u'X', u'LASTDATE': 9603, u'WEALTH_INDEX': 0.08, u'INCOME': 6, u'FISTDATE': 9502, u'NAME': u\"Corinne X. O'Aiyangar\"}\n",
        "{u'RFA_2F': 3, u'RFA_2A': u'G', u'TARGET_B': 0, u'LASTGIFT': 20, u'AVGGIFT': 19.8, u'PEPSTRFL': u'X', u'LASTDATE': 9604, u'WEALTH_INDEX': 2.62, u'INCOME': 5, u'FISTDATE': 8810, u'NAME': u\"Craig A. O'Aiyangar\"}\n",
        "{u'RFA_2F': 2, u'RFA_2A': u'F', u'TARGET_B': 0, u'LASTGIFT': 20, u'AVGGIFT': 11.85, u'PEPSTRFL': u'X', u'LASTDATE': 9510, u'WEALTH_INDEX': 10.16, u'INCOME': 4, u'FISTDATE': 8607, u'NAME': u\"Craig C. O'Aiyangar\"}\n",
        "{u'RFA_2F': 2, u'RFA_2A': u'E', u'TARGET_B': 0, u'LASTGIFT': 10, u'AVGGIFT': 5.75, u'PEPSTRFL': u'X', u'LASTDATE': 9601, u'WEALTH_INDEX': 2.78, u'INCOME': 3, u'FISTDATE': 8703, u'NAME': u\"Craig H. O'Aiyangar\"}\n",
        "{u'RFA_2F': 1, u'RFA_2A': u'G', u'TARGET_B': 0, u'LASTGIFT': 100, u'AVGGIFT': 69.615384615, u'PEPSTRFL': u'X', u'LASTDATE': 9606, u'WEALTH_INDEX': 3.03, u'INCOME': 7, u'FISTDATE': 9009, u'NAME': u\"Craig I. O'Aiyangar\"}\n",
        "{u'RFA_2F': 3, u'RFA_2A': u'D', u'TARGET_B': 0, u'LASTGIFT': 5, u'AVGGIFT': 2.3515625, u'PEPSTRFL': u'X', u'LASTDATE': 9512, u'WEALTH_INDEX': 5.03, u'INCOME': 2, u'FISTDATE': 8608, u'NAME': u\"Daniel C. O'Aiyangar\"}\n",
        "{u'RFA_2F': 1, u'RFA_2A': u'E', u'TARGET_B': 0, u'LASTGIFT': 14, u'AVGGIFT': 7.4285714286, u'PEPSTRFL': u'X', u'LASTDATE': 9504, u'WEALTH_INDEX': 2.49, u'INCOME': 5, u'FISTDATE': 8703, u'NAME': u\"Daniel V. O'Aiyangar\"}\n",
        "j) Sorted top 10 customer records with values as the first element:"
       ]
      },
      {
       "output_type": "stream",
       "stream": "stdout",
       "text": [
        "\n",
        "[(-39.872, {u'RFA_2F': 1, u'RFA_2A': u'E', u'TARGET_B': 1, u'LASTGIFT': 10, u'AVGGIFT': 8.2307692308, u'PEPSTRFL': u'X', u'LASTDATE': 9510, u'WEALTH_INDEX': 0.01, u'INCOME': 4, u'FISTDATE': 8810, u'NAME': u'Suresh W. Lin Jr.'}), (-39.872, {u'RFA_2F': 1, u'RFA_2A': u'F', u'TARGET_B': 1, u'LASTGIFT': 15, u'AVGGIFT': 8.75, u'PEPSTRFL': u'X', u'LASTDATE': 9504, u'WEALTH_INDEX': 0.01, u'INCOME': 4, u'FISTDATE': 8801, u'NAME': u'Reshama D. Cohodes'}), (-39.84, {u'RFA_2F': 1, u'RFA_2A': u'F', u'TARGET_B': 1, u'LASTGIFT': 15, u'AVGGIFT': 12.333333333, u'PEPSTRFL': u'X', u'LASTDATE': 9512, u'WEALTH_INDEX': 0.05, u'INCOME': 2, u'FISTDATE': 9202, u'NAME': u'Michael V. Peres'}), (-39.84, {u'RFA_2F': 1, u'RFA_2A': u'F', u'TARGET_B': 1, u'LASTGIFT': 15, u'AVGGIFT': 8.1071428571, u'PEPSTRFL': u'X', u'LASTDATE': 9511, u'WEALTH_INDEX': 0.05, u'INCOME': 5, u'FISTDATE': 8610, u'NAME': u\"Xias O'Shaikh\"}), (-39.84, {u'RFA_2F': 1, u'RFA_2A': u'F', u'TARGET_B': 1, u'LASTGIFT': 20, u'AVGGIFT': 9.375, u'PEPSTRFL': u'X', u'LASTDATE': 9603, u'WEALTH_INDEX': 0.05, u'INCOME': 2, u'FISTDATE': 8812, u'NAME': u'Deepa I. Bathe'}), (-39.832, {u'RFA_2F': 1, u'RFA_2A': u'F', u'TARGET_B': 0, u'LASTGIFT': 17, u'AVGGIFT': 10, u'PEPSTRFL': u'X', u'LASTDATE': 9506, u'WEALTH_INDEX': 0.06, u'INCOME': 2, u'FISTDATE': 9202, u'NAME': u'Sebastian X. Kim III'}), (-39.832, {u'RFA_2F': 1, u'RFA_2A': u'G', u'TARGET_B': 0, u'LASTGIFT': 25, u'AVGGIFT': 9.7407407407, u'PEPSTRFL': u'X', u'LASTDATE': 9601, u'WEALTH_INDEX': 0.06, u'INCOME': 4, u'FISTDATE': 8610, u'NAME': u'Suresh B. Aiyangar Sr.'}), (-39.832, {u'RFA_2F': 1, u'RFA_2A': u'F', u'TARGET_B': 1, u'LASTGIFT': 20, u'AVGGIFT': 8.5789473684, u'PEPSTRFL': u'X', u'LASTDATE': 9509, u'WEALTH_INDEX': 0.06, u'INCOME': 3, u'FISTDATE': 8611, u'NAME': u'Joseph B. Feng'}), (-39.832, {u'RFA_2F': 1, u'RFA_2A': u'E', u'TARGET_B': 1, u'LASTGIFT': 10, u'AVGGIFT': 12.47826087, u'PEPSTRFL': u'X', u'LASTDATE': 9603, u'WEALTH_INDEX': 0.06, u'INCOME': 2, u'FISTDATE': 8608, u'NAME': u'Charlotte Q. Hao'}), (-39.824000000000005, {u'RFA_2F': 1, u'RFA_2A': u'F', u'TARGET_B': 1, u'LASTGIFT': 20, u'AVGGIFT': 16.4, u'PEPSTRFL': u'X', u'LASTDATE': 9509, u'WEALTH_INDEX': 0.07, u'INCOME': 6, u'FISTDATE': 9002, u'NAME': u'Amrish K. Ho'})]\n"
       ]
      }
     ],
     "prompt_number": 6
    },
    {
     "cell_type": "code",
     "collapsed": false,
     "input": [],
     "language": "python",
     "metadata": {},
     "outputs": []
    }
   ],
   "metadata": {}
  }
 ]
}